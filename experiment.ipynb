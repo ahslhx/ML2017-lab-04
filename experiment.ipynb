{
 "cells": [
  {
   "cell_type": "code",
   "execution_count": 1,
   "metadata": {
    "collapsed": true
   },
   "outputs": [],
   "source": [
    "#!/usr/bin/env python3\n",
    "# -*- coding: utf-8 -*-\n",
    "import numpy as np\n",
    "import math\n",
    "import matplotlib.pyplot as plt\n",
    "\n",
    "%matplotlib inline\n",
    "\n",
    "NUM_ITERATIONS = 1000\n",
    "NUM_USER = 943\n",
    "NUM_MOVIE = 1682\n",
    "K = 30"
   ]
  },
  {
   "cell_type": "code",
   "execution_count": 2,
   "metadata": {
    "collapsed": true
   },
   "outputs": [],
   "source": [
    "#load dataset\n",
    "def load_dataset(path):\n",
    "    with open(path,\"r\") as f:\n",
    "        m = NUM_USER\n",
    "        n = NUM_MOVIE        \n",
    "        R = np.zeros((m,n))       \n",
    "\n",
    "        for line in f:\n",
    "            fields = line.strip().split(\"\\t\")\n",
    "            user_id, movie_id = map(int, (fields[0],fields[1]))\n",
    "            R[user_id-1][movie_id-1] = float(fields[2])\n",
    "                \n",
    "        return R        \n",
    "\n",
    "\n",
    "R_train = load_dataset(\"./ml-100k/u1.base\")\n",
    "R_valid = load_dataset(\"./ml-100k/u1.test\")\n",
    "# print(R_train)"
   ]
  },
  {
   "cell_type": "code",
   "execution_count": 3,
   "metadata": {
    "collapsed": true
   },
   "outputs": [],
   "source": [
    "# initialization\n",
    "k = K\n",
    "m = NUM_USER\n",
    "n = NUM_MOVIE    \n",
    "P = np.random.rand(m,k)\n",
    "Q = np.random.rand(n,k)"
   ]
  },
  {
   "cell_type": "code",
   "execution_count": 4,
   "metadata": {
    "collapsed": true
   },
   "outputs": [],
   "source": [
    "#SGD\n",
    "def sgdmf(R_train, R_valid, P, Q, K, iterations=NUM_ITERATIONS, learning_rate=0.0002,lamda=0.02):\n",
    "    Q = Q.T\n",
    "    R = R_train\n",
    "    loss_valid_history = []\n",
    "    epoch_set=[]\n",
    "    last_e = 1000000\n",
    "    for epoch in range(iterations):\n",
    "        for i in range(m):\n",
    "            for j in range(n):\n",
    "                if R[i][j] > 0:\n",
    "                    eij = R[i][j] - np.dot(P[i,:],Q[:,j])\n",
    "                    for k in range(K):\n",
    "                        P[i][k] = P[i][k] + learning_rate * (2 * eij * Q[k][j] - lamda * P[i][k])\n",
    "                        Q[k][j] = Q[k][j] + learning_rate * (2 * eij * P[i][k] - lamda * Q[k][j])\n",
    "        eR = np.dot(P,Q)\n",
    "        e = 0\n",
    "        for i in range(m):\n",
    "            for j in range(n):\n",
    "                if R_valid[i][j] > 0:\n",
    "                    e = e + pow(R_valid[i][j] - np.dot(P[i,:],Q[:,j]), 2)\n",
    "                    for k in range(K):\n",
    "                        e = e + (lamda/2) * (pow(P[i][k],2) + pow(Q[k][j],2))\n",
    "        loss_valid_history.append(e)\n",
    "        if epoch % 10 == 0:\n",
    "            print(\"epoch\",epoch)\n",
    "            print(\"Loss of validation set:\",e)\n",
    "            print(\"-------------------------------------\")\n",
    "        if e < 0.001 or (e - last_e)>0:\n",
    "            break\n",
    "        else:\n",
    "            last_e = e\n",
    "            \n",
    "    return P, Q.T, loss_valid_history"
   ]
  },
  {
   "cell_type": "code",
   "execution_count": 5,
   "metadata": {},
   "outputs": [
    {
     "name": "stdout",
     "output_type": "stream",
     "text": [
      "epoch 0\n",
      "Loss of validation set: 134153.036198\n",
      "-------------------------------------\n",
      "epoch 10\n",
      "Loss of validation set: 37549.8893656\n",
      "-------------------------------------\n",
      "epoch 20\n",
      "Loss of validation set: 31239.5131917\n",
      "-------------------------------------\n",
      "epoch 30\n",
      "Loss of validation set: 28464.0041149\n",
      "-------------------------------------\n",
      "epoch 40\n",
      "Loss of validation set: 26868.5604622\n",
      "-------------------------------------\n",
      "epoch 50\n",
      "Loss of validation set: 25837.6761304\n",
      "-------------------------------------\n",
      "epoch 60\n",
      "Loss of validation set: 25126.3249206\n",
      "-------------------------------------\n",
      "epoch 70\n",
      "Loss of validation set: 24615.424024\n",
      "-------------------------------------\n",
      "epoch 80\n",
      "Loss of validation set: 24239.2689511\n",
      "-------------------------------------\n",
      "epoch 90\n",
      "Loss of validation set: 23958.2352451\n",
      "-------------------------------------\n",
      "epoch 100\n",
      "Loss of validation set: 23746.827182\n",
      "-------------------------------------\n",
      "epoch 110\n",
      "Loss of validation set: 23587.827734\n",
      "-------------------------------------\n",
      "epoch 120\n",
      "Loss of validation set: 23469.1759095\n",
      "-------------------------------------\n",
      "epoch 130\n",
      "Loss of validation set: 23382.1812144\n",
      "-------------------------------------\n",
      "epoch 140\n",
      "Loss of validation set: 23320.4443435\n",
      "-------------------------------------\n",
      "epoch 150\n",
      "Loss of validation set: 23279.1738963\n",
      "-------------------------------------\n",
      "epoch 160\n",
      "Loss of validation set: 23254.7358506\n",
      "-------------------------------------\n",
      "epoch 170\n",
      "Loss of validation set: 23244.3449006\n",
      "-------------------------------------\n"
     ]
    }
   ],
   "source": [
    "nP, nQ, loss_valid_history = sgdmf(R_train, R_valid, P, Q, K)\n",
    "nR = np.dot(nP, nQ.T)"
   ]
  },
  {
   "cell_type": "code",
   "execution_count": 6,
   "metadata": {},
   "outputs": [
    {
     "data": {
      "image/png": "[encoded data removed]",
      "text/plain": [
       "<matplotlib.figure.Figure at 0x7f47b1f2bc88>"
      ]
     },
     "metadata": {},
     "output_type": "display_data"
    }
   ],
   "source": [
    "plt.figure(figsize=(10,15))\n",
    "plt.subplot(211)\n",
    "plt.xlabel('epochs')\n",
    "plt.ylabel('loss')\n",
    "plt.plot(loss_valid_history,color='blue',label='validation',linewidth=1.5,linestyle='-')\n",
    "plt.legend(loc='upper right')\n",
    "plt.show()"
   ]
  },
  {
   "cell_type": "code",
   "execution_count": null,
   "metadata": {
    "collapsed": true
   },
   "outputs": [],
   "source": [
    "print(len(loss_valid_))"
   ]
  }
 ],
 "metadata": {
  "kernelspec": {
   "display_name": "Python 3",
   "language": "python",
   "name": "python3"
  },
  "language_info": {
   "codemirror_mode": {
    "name": "ipython",
    "version": 3
   },
   "file_extension": ".py",
   "mimetype": "text/x-python",
   "name": "python",
   "nbconvert_exporter": "python",
   "pygments_lexer": "ipython3",
   "version": "3.6.3"
  }
 },
 "nbformat": 4,
 "nbformat_minor": 2
}
